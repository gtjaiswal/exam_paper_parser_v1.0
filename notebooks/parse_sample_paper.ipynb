{
 "cells": [
  {
   "cell_type": "code",
   "execution_count": 7,
   "id": "478af715",
   "metadata": {},
   "outputs": [
    {
     "name": "stdout",
     "output_type": "stream",
     "text": [
      "✅ PyMuPDF version: 1.26.5:\n",
      "✅ pdfplumber imported successfully!\n"
     ]
    }
   ],
   "source": [
    "import fitz  # PyMuPDF\n",
    "import pdfplumber\n",
    "import pandas as pd\n",
    "\n",
    "print(\"✅ PyMuPDF version:\", fitz.__doc__.split()[1])\n",
    "print(\"✅ pdfplumber imported successfully!\")\n"
   ]
  }
 ],
 "metadata": {
  "kernelspec": {
   "display_name": "exam_parser",
   "language": "python",
   "name": "python3"
  },
  "language_info": {
   "codemirror_mode": {
    "name": "ipython",
    "version": 3
   },
   "file_extension": ".py",
   "mimetype": "text/x-python",
   "name": "python",
   "nbconvert_exporter": "python",
   "pygments_lexer": "ipython3",
   "version": "3.11.14"
  }
 },
 "nbformat": 4,
 "nbformat_minor": 5
}
